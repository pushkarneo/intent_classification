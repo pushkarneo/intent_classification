{
 "cells": [
  {
   "cell_type": "code",
   "execution_count": 1,
   "metadata": {
    "colab": {},
    "colab_type": "code",
    "id": "kljcrbkBZXfj"
   },
   "outputs": [
    {
     "name": "stderr",
     "output_type": "stream",
     "text": [
      "Using TensorFlow backend.\n"
     ]
    }
   ],
   "source": [
    "import numpy as np\n",
    "import pandas as pd\n",
    "import json\n",
    "import csv\n",
    "import os\n",
    "import seaborn as sns\n",
    "from nltk.tokenize import word_tokenize\n",
    "import nltk\n",
    "from keras.preprocessing.text import Tokenizer\n",
    "from keras.preprocessing.sequence import pad_sequences\n",
    "from sklearn.preprocessing import OneHotEncoder\n",
    "from sklearn.model_selection import train_test_split\n",
    "from keras.layers import Input, LSTM, Bidirectional, Dense, Dropout, BatchNormalization, Embedding, concatenate, Flatten\n",
    "from keras.models import Model, Sequential, load_model"
   ]
  },
  
  {
   "cell_type": "markdown",
   "metadata": {
    "colab_type": "text",
    "id": "KVsQzA3l64aA"
   },
   "source": [
    "---\n",
    "\n",
    "# Function to load data from csv file to a python dictionary (hash map)\n",
    "\n",
    "---\n"
   ]
  },
  {
   "cell_type": "code",
   "execution_count": 4,
   "metadata": {
    "colab": {},
    "colab_type": "code",
    "id": "7049uImwZXfz"
   },
   "outputs": [],
   "source": [
    "def load_data(data_file):\n",
    "  dict_df = {'label':[],\n",
    "             'id':[],\n",
    "             'data':[],\n",
    "             #'comments':[],\n",
    "             'message_order':[]}\n",
    "  with open(data_file,'r') as csv_file:\n",
    "      data = csv.reader(csv_file,delimiter=',')\n",
    "      for row in data:\n",
    "          if(row[0] == 'data'):\n",
    "              continue\n",
    "          else:\n",
    "              try:\n",
    "                  json_read = json.loads(row[0].replace(\"'\",\"\\\"\"))\n",
    "                  dict_df['id'].append(json_read['id'])\n",
    "                  dict_df['data'].append(json_read['data'])\n",
    "                  #dict_df['comments'].append(json_read['comments'])\n",
    "                  dict_df['message_order'].append(json_read['message_order'])\n",
    "                  dict_df['label'].append(row[1])\n",
    "              except:\n",
    "                  pass\n",
    "  return dict_df"
   ]
  },
  {
   "cell_type": "code",
   "execution_count": 6,
   "metadata": {
    "colab": {},
    "colab_type": "code",
    "id": "GcPI-uNCZXf5"
   },
   "outputs": [],
   "source": [
    "data_file = 'round2_task_data.csv'\n",
    "df = pd.DataFrame.from_dict(load_data(data_file))"
   ]
  },
  {
   "cell_type": "markdown",
   "metadata": {
    "colab_type": "text",
    "id": "HWhwPAnJ7kuX"
   },
   "source": [
    "---\n",
    "# Exploratory data analysis (getting insights from data by plotting graphs and charts)\n",
    "---"
   ]
  },
  {
   "cell_type": "markdown",
   "metadata": {
    "colab_type": "text",
    "id": "F2NWzHWJ743t"
   },
   "source": [
    "## Plotting a graph to count all labels for each message order"
   ]
  },
  {
   "cell_type": "code",
   "execution_count": 7,
   "metadata": {
    "colab": {
     "base_uri": "https://localhost:8080/",
     "height": 412
    },
    "colab_type": "code",
    "id": "-IGZBQW2ZXf9",
    "outputId": "1ae5a881-72b0-446b-cc7b-d39f9acd2e50"
   },
   "outputs": [
    {
     "data": {
      "text/plain": [
       "<matplotlib.axes._subplots.AxesSubplot at 0x1a41dad1d0>"
      ]
     },
     "execution_count": 7,
     "metadata": {},
     "output_type": "execute_result"
    },
    {
     "data": {
      "image/png": "[encoded data removed]",
      "text/plain": [
       "<matplotlib.figure.Figure at 0x120ac4650>"
      ]
     },
     "metadata": {},
     "output_type": "display_data"
    }
   ],
   "source": [
    "sns.set_style(style='darkgrid')\n",
    "sns.countplot(x='label',data = df,hue='message_order')"
   ]
  },
  {
   "cell_type": "markdown",
   "metadata": {
    "colab_type": "text",
    "id": "ox2jyk4y8DL3"
   },
   "source": [
    "## Plotting a graph to count all labels"
   ]
  },
  {
   "cell_type": "code",
   "execution_count": 8,
   "metadata": {
    "colab": {
     "base_uri": "https://localhost:8080/",
     "height": 412
    },
    "colab_type": "code",
    "id": "WHLfdG7WZXgC",
    "outputId": "056ed85b-baa2-40aa-ce54-b63651c79e41"
   },
   "outputs": [
    {
     "data": {
      "text/plain": [
       "<matplotlib.axes._subplots.AxesSubplot at 0x1a42109fd0>"
      ]
     },
     "execution_count": 8,
     "metadata": {},
     "output_type": "execute_result"
    },
    {
     "data": {
      "image/png": "[encoded data removed]",
      "text/plain": [
       "<matplotlib.figure.Figure at 0x111b13750>"
      ]
     },
     "metadata": {},
     "output_type": "display_data"
    }
   ],
   "source": [
    "sns.countplot(x='label',data=df)"
   ]
  },
  {
   "cell_type": "markdown",
   "metadata": {
    "colab_type": "text",
    "id": "RPQrtJmV8QJ2"
   },
   "source": [
    "## Exploring the data using dataframe functions"
   ]
  },
  {
   "cell_type": "code",
   "execution_count": 9,
   "metadata": {
    "colab": {
     "base_uri": "https://localhost:8080/",
     "height": 1969
    },
    "colab_type": "code",
    "id": "XAbbd-L3ZXgF",
    "outputId": "03447e32-65b3-45e4-9828-771e3cc6e683",
    "scrolled": true
   },
   "outputs": [
    {
     "data": {
      "text/html": [
       "<div>\n",
       "<style scoped>\n",
       "    .dataframe tbody tr th:only-of-type {\n",
       "        vertical-align: middle;\n",
       "    }\n",
       "\n",
       "    .dataframe tbody tr th {\n",
       "        vertical-align: top;\n",
       "    }\n",
       "\n",
       "    .dataframe thead th {\n",
       "        text-align: right;\n",
       "    }\n",
       "</style>\n",
       "<table border=\"1\" class=\"dataframe\">\n",
       "  <thead>\n",
       "    <tr style=\"text-align: right;\">\n",
       "      <th></th>\n",
       "      <th>data</th>\n",
       "      <th>id</th>\n",
       "      <th>label</th>\n",
       "      <th>message_order</th>\n",
       "    </tr>\n",
       "  </thead>\n",
       "  <tbody>\n",
       "    <tr>\n",
       "      <th>1</th>\n",
       "      <td>Location</td>\n",
       "      <td>L9DC9H</td>\n",
       "      <td>whoAreYou</td>\n",
       "      <td>5</td>\n",
       "    </tr>\n",
       "    <tr>\n",
       "      <th>2</th>\n",
       "      <td>hi</td>\n",
       "      <td>ZQR6R5</td>\n",
       "      <td>whoAreYou</td>\n",
       "      <td>5</td>\n",
       "    </tr>\n",
       "    <tr>\n",
       "      <th>5</th>\n",
       "      <td>sir</td>\n",
       "      <td>M2IRWL</td>\n",
       "      <td>whoAreYou</td>\n",
       "      <td>3</td>\n",
       "    </tr>\n",
       "    <tr>\n",
       "      <th>6</th>\n",
       "      <td>K</td>\n",
       "      <td>5MXRNL</td>\n",
       "      <td>whoAreYou</td>\n",
       "      <td>2</td>\n",
       "    </tr>\n",
       "    <tr>\n",
       "      <th>9</th>\n",
       "      <td>Sir I dnt have two wheeler</td>\n",
       "      <td>GI07N1</td>\n",
       "      <td>whoAreYou</td>\n",
       "      <td>2</td>\n",
       "    </tr>\n",
       "    <tr>\n",
       "      <th>16</th>\n",
       "      <td>Where it is</td>\n",
       "      <td>NKB41P</td>\n",
       "      <td>whoAreYou</td>\n",
       "      <td>1</td>\n",
       "    </tr>\n",
       "    <tr>\n",
       "      <th>18</th>\n",
       "      <td>were</td>\n",
       "      <td>OGBMAM</td>\n",
       "      <td>whoAreYou</td>\n",
       "      <td>5</td>\n",
       "    </tr>\n",
       "    <tr>\n",
       "      <th>20</th>\n",
       "      <td>No</td>\n",
       "      <td>OAMYVS</td>\n",
       "      <td>whoAreYou</td>\n",
       "      <td>0</td>\n",
       "    </tr>\n",
       "    <tr>\n",
       "      <th>25</th>\n",
       "      <td>Marathi</td>\n",
       "      <td>Z7UF71</td>\n",
       "      <td>whoAreYou</td>\n",
       "      <td>3</td>\n",
       "    </tr>\n",
       "    <tr>\n",
       "      <th>26</th>\n",
       "      <td>Ok</td>\n",
       "      <td>GZLTJC</td>\n",
       "      <td>whoAreYou</td>\n",
       "      <td>1</td>\n",
       "    </tr>\n",
       "    <tr>\n",
       "      <th>29</th>\n",
       "      <td>Ok</td>\n",
       "      <td>MY3Q1J</td>\n",
       "      <td>whoAreYou</td>\n",
       "      <td>2</td>\n",
       "    </tr>\n",
       "    <tr>\n",
       "      <th>36</th>\n",
       "      <td>Hi..</td>\n",
       "      <td>HTRWUM</td>\n",
       "      <td>whoAreYou</td>\n",
       "      <td>5</td>\n",
       "    </tr>\n",
       "    <tr>\n",
       "      <th>37</th>\n",
       "      <td>K</td>\n",
       "      <td>QS76OO</td>\n",
       "      <td>whoAreYou</td>\n",
       "      <td>0</td>\n",
       "    </tr>\n",
       "    <tr>\n",
       "      <th>41</th>\n",
       "      <td>Ok thanks 🙏🏻</td>\n",
       "      <td>5ENIE2</td>\n",
       "      <td>whoAreYou</td>\n",
       "      <td>2</td>\n",
       "    </tr>\n",
       "    <tr>\n",
       "      <th>42</th>\n",
       "      <td>Ok</td>\n",
       "      <td>WE94Y2</td>\n",
       "      <td>whoAreYou</td>\n",
       "      <td>3</td>\n",
       "    </tr>\n",
       "    <tr>\n",
       "      <th>44</th>\n",
       "      <td>Okkk</td>\n",
       "      <td>S4914B</td>\n",
       "      <td>whoAreYou</td>\n",
       "      <td>3</td>\n",
       "    </tr>\n",
       "    <tr>\n",
       "      <th>46</th>\n",
       "      <td>Ok</td>\n",
       "      <td>8H0AIC</td>\n",
       "      <td>whoAreYou</td>\n",
       "      <td>4</td>\n",
       "    </tr>\n",
       "    <tr>\n",
       "      <th>50</th>\n",
       "      <td>Ok</td>\n",
       "      <td>PL4IXA</td>\n",
       "      <td>whoAreYou</td>\n",
       "      <td>0</td>\n",
       "    </tr>\n",
       "    <tr>\n",
       "      <th>51</th>\n",
       "      <td>Hi ..</td>\n",
       "      <td>L2MVZC</td>\n",
       "      <td>whoAreYou</td>\n",
       "      <td>5</td>\n",
       "    </tr>\n",
       "    <tr>\n",
       "      <th>53</th>\n",
       "      <td>Hi sir</td>\n",
       "      <td>Q29W1E</td>\n",
       "      <td>whoAreYou</td>\n",
       "      <td>5</td>\n",
       "    </tr>\n",
       "    <tr>\n",
       "      <th>54</th>\n",
       "      <td>I have learning licence</td>\n",
       "      <td>B6XAGF</td>\n",
       "      <td>whoAreYou</td>\n",
       "      <td>5</td>\n",
       "    </tr>\n",
       "    <tr>\n",
       "      <th>55</th>\n",
       "      <td>Hii</td>\n",
       "      <td>64HXXB</td>\n",
       "      <td>whoAreYou</td>\n",
       "      <td>4</td>\n",
       "    </tr>\n",
       "    <tr>\n",
       "      <th>56</th>\n",
       "      <td>Hii</td>\n",
       "      <td>SG3868</td>\n",
       "      <td>whoAreYou</td>\n",
       "      <td>4</td>\n",
       "    </tr>\n",
       "    <tr>\n",
       "      <th>57</th>\n",
       "      <td>Hii</td>\n",
       "      <td>3O1NCP</td>\n",
       "      <td>whoAreYou</td>\n",
       "      <td>1</td>\n",
       "    </tr>\n",
       "    <tr>\n",
       "      <th>63</th>\n",
       "      <td>Lerner license only</td>\n",
       "      <td>LK3Z2Z</td>\n",
       "      <td>whoAreYou</td>\n",
       "      <td>3</td>\n",
       "    </tr>\n",
       "    <tr>\n",
       "      <th>68</th>\n",
       "      <td>ohhhh sry</td>\n",
       "      <td>4UPRAA</td>\n",
       "      <td>whoAreYou</td>\n",
       "      <td>5</td>\n",
       "    </tr>\n",
       "    <tr>\n",
       "      <th>69</th>\n",
       "      <td>Ok</td>\n",
       "      <td>MCR8C2</td>\n",
       "      <td>whoAreYou</td>\n",
       "      <td>0</td>\n",
       "    </tr>\n",
       "    <tr>\n",
       "      <th>70</th>\n",
       "      <td>Kidar hai job</td>\n",
       "      <td>I4QYET</td>\n",
       "      <td>whoAreYou</td>\n",
       "      <td>3</td>\n",
       "    </tr>\n",
       "    <tr>\n",
       "      <th>71</th>\n",
       "      <td>Hallo</td>\n",
       "      <td>PTTKK3</td>\n",
       "      <td>whoAreYou</td>\n",
       "      <td>4</td>\n",
       "    </tr>\n",
       "    <tr>\n",
       "      <th>79</th>\n",
       "      <td>Hy</td>\n",
       "      <td>AIL1VG</td>\n",
       "      <td>whoAreYou</td>\n",
       "      <td>3</td>\n",
       "    </tr>\n",
       "    <tr>\n",
       "      <th>...</th>\n",
       "      <td>...</td>\n",
       "      <td>...</td>\n",
       "      <td>...</td>\n",
       "      <td>...</td>\n",
       "    </tr>\n",
       "    <tr>\n",
       "      <th>1817</th>\n",
       "      <td>Hi</td>\n",
       "      <td>MFBMXI</td>\n",
       "      <td>whoAreYou</td>\n",
       "      <td>4</td>\n",
       "    </tr>\n",
       "    <tr>\n",
       "      <th>1818</th>\n",
       "      <td>I have LR only</td>\n",
       "      <td>SWD7H6</td>\n",
       "      <td>whoAreYou</td>\n",
       "      <td>3</td>\n",
       "    </tr>\n",
       "    <tr>\n",
       "      <th>1820</th>\n",
       "      <td>Hi</td>\n",
       "      <td>WWAZ0A</td>\n",
       "      <td>whoAreYou</td>\n",
       "      <td>4</td>\n",
       "    </tr>\n",
       "    <tr>\n",
       "      <th>1821</th>\n",
       "      <td>Kkk</td>\n",
       "      <td>V44CQA</td>\n",
       "      <td>whoAreYou</td>\n",
       "      <td>3</td>\n",
       "    </tr>\n",
       "    <tr>\n",
       "      <th>1824</th>\n",
       "      <td>Hi</td>\n",
       "      <td>HD0AEX</td>\n",
       "      <td>whoAreYou</td>\n",
       "      <td>4</td>\n",
       "    </tr>\n",
       "    <tr>\n",
       "      <th>1828</th>\n",
       "      <td>Hi</td>\n",
       "      <td>5RXLUS</td>\n",
       "      <td>whoAreYou</td>\n",
       "      <td>1</td>\n",
       "    </tr>\n",
       "    <tr>\n",
       "      <th>1830</th>\n",
       "      <td>Hi....</td>\n",
       "      <td>S6LU99</td>\n",
       "      <td>whoAreYou</td>\n",
       "      <td>4</td>\n",
       "    </tr>\n",
       "    <tr>\n",
       "      <th>1836</th>\n",
       "      <td>Ok</td>\n",
       "      <td>11JMAE</td>\n",
       "      <td>whoAreYou</td>\n",
       "      <td>5</td>\n",
       "    </tr>\n",
       "    <tr>\n",
       "      <th>1838</th>\n",
       "      <td>Address</td>\n",
       "      <td>9KLI2C</td>\n",
       "      <td>whoAreYou</td>\n",
       "      <td>3</td>\n",
       "    </tr>\n",
       "    <tr>\n",
       "      <th>1841</th>\n",
       "      <td>Hi</td>\n",
       "      <td>5WZC8I</td>\n",
       "      <td>whoAreYou</td>\n",
       "      <td>5</td>\n",
       "    </tr>\n",
       "    <tr>\n",
       "      <th>1843</th>\n",
       "      <td>Ok ji</td>\n",
       "      <td>06TGMR</td>\n",
       "      <td>whoAreYou</td>\n",
       "      <td>1</td>\n",
       "    </tr>\n",
       "    <tr>\n",
       "      <th>1845</th>\n",
       "      <td>Thanku lm not interested</td>\n",
       "      <td>1A56BK</td>\n",
       "      <td>whoAreYou</td>\n",
       "      <td>2</td>\n",
       "    </tr>\n",
       "    <tr>\n",
       "      <th>1848</th>\n",
       "      <td>Ok</td>\n",
       "      <td>7YIGLX</td>\n",
       "      <td>whoAreYou</td>\n",
       "      <td>0</td>\n",
       "    </tr>\n",
       "    <tr>\n",
       "      <th>1852</th>\n",
       "      <td>Not</td>\n",
       "      <td>KT9HUH</td>\n",
       "      <td>whoAreYou</td>\n",
       "      <td>3</td>\n",
       "    </tr>\n",
       "    <tr>\n",
       "      <th>1858</th>\n",
       "      <td>No</td>\n",
       "      <td>JD7D7M</td>\n",
       "      <td>whoAreYou</td>\n",
       "      <td>5</td>\n",
       "    </tr>\n",
       "    <tr>\n",
       "      <th>1860</th>\n",
       "      <td>Hello sir</td>\n",
       "      <td>OJLTDJ</td>\n",
       "      <td>whoAreYou</td>\n",
       "      <td>2</td>\n",
       "    </tr>\n",
       "    <tr>\n",
       "      <th>1866</th>\n",
       "      <td>Hy u</td>\n",
       "      <td>ZCTDA3</td>\n",
       "      <td>whoAreYou</td>\n",
       "      <td>1</td>\n",
       "    </tr>\n",
       "    <tr>\n",
       "      <th>1867</th>\n",
       "      <td>I have no bibek</td>\n",
       "      <td>M1W3V5</td>\n",
       "      <td>whoAreYou</td>\n",
       "      <td>1</td>\n",
       "    </tr>\n",
       "    <tr>\n",
       "      <th>1868</th>\n",
       "      <td>Job location</td>\n",
       "      <td>FFQHWZ</td>\n",
       "      <td>whoAreYou</td>\n",
       "      <td>3</td>\n",
       "    </tr>\n",
       "    <tr>\n",
       "      <th>1872</th>\n",
       "      <td>Ok</td>\n",
       "      <td>W5G3II</td>\n",
       "      <td>whoAreYou</td>\n",
       "      <td>1</td>\n",
       "    </tr>\n",
       "    <tr>\n",
       "      <th>1880</th>\n",
       "      <td>Hello</td>\n",
       "      <td>9MV3P9</td>\n",
       "      <td>whoAreYou</td>\n",
       "      <td>0</td>\n",
       "    </tr>\n",
       "    <tr>\n",
       "      <th>1887</th>\n",
       "      <td>Hi</td>\n",
       "      <td>0N6GQ7</td>\n",
       "      <td>whoAreYou</td>\n",
       "      <td>5</td>\n",
       "    </tr>\n",
       "    <tr>\n",
       "      <th>1891</th>\n",
       "      <td>Hiii</td>\n",
       "      <td>H90U8P</td>\n",
       "      <td>whoAreYou</td>\n",
       "      <td>5</td>\n",
       "    </tr>\n",
       "    <tr>\n",
       "      <th>1892</th>\n",
       "      <td>Hii</td>\n",
       "      <td>4RZ1T5</td>\n",
       "      <td>whoAreYou</td>\n",
       "      <td>3</td>\n",
       "    </tr>\n",
       "    <tr>\n",
       "      <th>1900</th>\n",
       "      <td>How are you</td>\n",
       "      <td>F3US1P</td>\n",
       "      <td>whoAreYou</td>\n",
       "      <td>2</td>\n",
       "    </tr>\n",
       "    <tr>\n",
       "      <th>1905</th>\n",
       "      <td>Job whare</td>\n",
       "      <td>FQGNAH</td>\n",
       "      <td>whoAreYou</td>\n",
       "      <td>0</td>\n",
       "    </tr>\n",
       "    <tr>\n",
       "      <th>1908</th>\n",
       "      <td>Ok</td>\n",
       "      <td>MCOUCX</td>\n",
       "      <td>whoAreYou</td>\n",
       "      <td>1</td>\n",
       "    </tr>\n",
       "    <tr>\n",
       "      <th>1910</th>\n",
       "      <td>Okay</td>\n",
       "      <td>CK9IU9</td>\n",
       "      <td>whoAreYou</td>\n",
       "      <td>4</td>\n",
       "    </tr>\n",
       "    <tr>\n",
       "      <th>1911</th>\n",
       "      <td>Okay</td>\n",
       "      <td>MDY1C7</td>\n",
       "      <td>whoAreYou</td>\n",
       "      <td>0</td>\n",
       "    </tr>\n",
       "    <tr>\n",
       "      <th>1916</th>\n",
       "      <td>Ok sir</td>\n",
       "      <td>ITXTOW</td>\n",
       "      <td>whoAreYou</td>\n",
       "      <td>2</td>\n",
       "    </tr>\n",
       "  </tbody>\n",
       "</table>\n",
       "<p>609 rows × 4 columns</p>\n",
       "</div>"
      ],
      "text/plain": [
       "                            data      id      label  message_order\n",
       "1                       Location  L9DC9H  whoAreYou              5\n",
       "2                             hi  ZQR6R5  whoAreYou              5\n",
       "5                            sir  M2IRWL  whoAreYou              3\n",
       "6                              K  5MXRNL  whoAreYou              2\n",
       "9     Sir I dnt have two wheeler  GI07N1  whoAreYou              2\n",
       "16                   Where it is  NKB41P  whoAreYou              1\n",
       "18                          were  OGBMAM  whoAreYou              5\n",
       "20                            No  OAMYVS  whoAreYou              0\n",
       "25                       Marathi  Z7UF71  whoAreYou              3\n",
       "26                            Ok  GZLTJC  whoAreYou              1\n",
       "29                            Ok  MY3Q1J  whoAreYou              2\n",
       "36                          Hi..  HTRWUM  whoAreYou              5\n",
       "37                             K  QS76OO  whoAreYou              0\n",
       "41                Ok thanks 🙏🏻  5ENIE2  whoAreYou              2\n",
       "42                            Ok  WE94Y2  whoAreYou              3\n",
       "44                          Okkk  S4914B  whoAreYou              3\n",
       "46                            Ok  8H0AIC  whoAreYou              4\n",
       "50                            Ok  PL4IXA  whoAreYou              0\n",
       "51                         Hi ..  L2MVZC  whoAreYou              5\n",
       "53                        Hi sir  Q29W1E  whoAreYou              5\n",
       "54       I have learning licence  B6XAGF  whoAreYou              5\n",
       "55                           Hii  64HXXB  whoAreYou              4\n",
       "56                           Hii  SG3868  whoAreYou              4\n",
       "57                           Hii  3O1NCP  whoAreYou              1\n",
       "63           Lerner license only  LK3Z2Z  whoAreYou              3\n",
       "68                     ohhhh sry  4UPRAA  whoAreYou              5\n",
       "69                            Ok  MCR8C2  whoAreYou              0\n",
       "70                 Kidar hai job  I4QYET  whoAreYou              3\n",
       "71                         Hallo  PTTKK3  whoAreYou              4\n",
       "79                            Hy  AIL1VG  whoAreYou              3\n",
       "...                          ...     ...        ...            ...\n",
       "1817                          Hi  MFBMXI  whoAreYou              4\n",
       "1818              I have LR only  SWD7H6  whoAreYou              3\n",
       "1820                          Hi  WWAZ0A  whoAreYou              4\n",
       "1821                         Kkk  V44CQA  whoAreYou              3\n",
       "1824                          Hi  HD0AEX  whoAreYou              4\n",
       "1828                          Hi  5RXLUS  whoAreYou              1\n",
       "1830                      Hi....  S6LU99  whoAreYou              4\n",
       "1836                          Ok  11JMAE  whoAreYou              5\n",
       "1838                     Address  9KLI2C  whoAreYou              3\n",
       "1841                          Hi  5WZC8I  whoAreYou              5\n",
       "1843                       Ok ji  06TGMR  whoAreYou              1\n",
       "1845    Thanku lm not interested  1A56BK  whoAreYou              2\n",
       "1848                          Ok  7YIGLX  whoAreYou              0\n",
       "1852                         Not  KT9HUH  whoAreYou              3\n",
       "1858                          No  JD7D7M  whoAreYou              5\n",
       "1860                   Hello sir  OJLTDJ  whoAreYou              2\n",
       "1866                        Hy u  ZCTDA3  whoAreYou              1\n",
       "1867             I have no bibek  M1W3V5  whoAreYou              1\n",
       "1868                Job location  FFQHWZ  whoAreYou              3\n",
       "1872                          Ok  W5G3II  whoAreYou              1\n",
       "1880                       Hello  9MV3P9  whoAreYou              0\n",
       "1887                          Hi  0N6GQ7  whoAreYou              5\n",
       "1891                        Hiii  H90U8P  whoAreYou              5\n",
       "1892                         Hii  4RZ1T5  whoAreYou              3\n",
       "1900                 How are you  F3US1P  whoAreYou              2\n",
       "1905                   Job whare  FQGNAH  whoAreYou              0\n",
       "1908                          Ok  MCOUCX  whoAreYou              1\n",
       "1910                        Okay  CK9IU9  whoAreYou              4\n",
       "1911                        Okay  MDY1C7  whoAreYou              0\n",
       "1916                      Ok sir  ITXTOW  whoAreYou              2\n",
       "\n",
       "[609 rows x 4 columns]"
      ]
     },
     "execution_count": 9,
     "metadata": {},
     "output_type": "execute_result"
    }
   ],
   "source": [
    "df.loc[df['label'] == 'whoAreYou']"
   ]
  },
  {
   "cell_type": "code",
   "execution_count": 10,
   "metadata": {
    "colab": {
     "base_uri": "https://localhost:8080/",
     "height": 297
    },
    "colab_type": "code",
    "id": "IkDR04x2ZXgJ",
    "outputId": "1af4cf70-054b-4013-9881-d15a596e7c2c"
   },
   "outputs": [
    {
     "data": {
      "text/html": [
       "<div>\n",
       "<style scoped>\n",
       "    .dataframe tbody tr th:only-of-type {\n",
       "        vertical-align: middle;\n",
       "    }\n",
       "\n",
       "    .dataframe tbody tr th {\n",
       "        vertical-align: top;\n",
       "    }\n",
       "\n",
       "    .dataframe thead th {\n",
       "        text-align: right;\n",
       "    }\n",
       "</style>\n",
       "<table border=\"1\" class=\"dataframe\">\n",
       "  <thead>\n",
       "    <tr style=\"text-align: right;\">\n",
       "      <th></th>\n",
       "      <th>message_order</th>\n",
       "    </tr>\n",
       "  </thead>\n",
       "  <tbody>\n",
       "    <tr>\n",
       "      <th>count</th>\n",
       "      <td>1919.000000</td>\n",
       "    </tr>\n",
       "    <tr>\n",
       "      <th>mean</th>\n",
       "      <td>2.496092</td>\n",
       "    </tr>\n",
       "    <tr>\n",
       "      <th>std</th>\n",
       "      <td>1.731708</td>\n",
       "    </tr>\n",
       "    <tr>\n",
       "      <th>min</th>\n",
       "      <td>0.000000</td>\n",
       "    </tr>\n",
       "    <tr>\n",
       "      <th>25%</th>\n",
       "      <td>1.000000</td>\n",
       "    </tr>\n",
       "    <tr>\n",
       "      <th>50%</th>\n",
       "      <td>3.000000</td>\n",
       "    </tr>\n",
       "    <tr>\n",
       "      <th>75%</th>\n",
       "      <td>4.000000</td>\n",
       "    </tr>\n",
       "    <tr>\n",
       "      <th>max</th>\n",
       "      <td>5.000000</td>\n",
       "    </tr>\n",
       "  </tbody>\n",
       "</table>\n",
       "</div>"
      ],
      "text/plain": [
       "       message_order\n",
       "count    1919.000000\n",
       "mean        2.496092\n",
       "std         1.731708\n",
       "min         0.000000\n",
       "25%         1.000000\n",
       "50%         3.000000\n",
       "75%         4.000000\n",
       "max         5.000000"
      ]
     },
     "execution_count": 10,
     "metadata": {},
     "output_type": "execute_result"
    }
   ],
   "source": [
    "df.describe()"
   ]
  },
  {
   "cell_type": "code",
   "execution_count": 11,
   "metadata": {
    "colab": {
     "base_uri": "https://localhost:8080/",
     "height": 119
    },
    "colab_type": "code",
    "id": "wMEwQsFWZXgM",
    "outputId": "7e95523f-e2d1-43e1-ca28-cd3e8e356c59"
   },
   "outputs": [
    {
     "data": {
      "text/plain": [
       "whoAreYou               609\n",
       "greeting                591\n",
       "notInterested           452\n",
       "dontMeetRequirements    151\n",
       "location                116\n",
       "Name: label, dtype: int64"
      ]
     },
     "execution_count": 11,
     "metadata": {},
     "output_type": "execute_result"
    }
   ],
   "source": [
    "df.label.value_counts()"
   ]
  },
  {
   "cell_type": "markdown",
   "metadata": {
    "colab_type": "text",
    "id": "jeTcJ6Bh8Wec"
   },
   "source": [
    "## Plotting a heatmap to denote correlation among label, data and message_order"
   ]
  },
  {
   "cell_type": "code",
   "execution_count": 12,
   "metadata": {
    "colab": {
     "base_uri": "https://localhost:8080/",
     "height": 364
    },
    "colab_type": "code",
    "id": "l-plP2vWZXgQ",
    "outputId": "3cad178c-b606-4ed3-d356-81c603cb2079"
   },
   "outputs": [
    {
     "data": {
      "text/plain": [
       "<matplotlib.axes._subplots.AxesSubplot at 0x1a422febd0>"
      ]
     },
     "execution_count": 12,
     "metadata": {},
     "output_type": "execute_result"
    },
    {
     "data": {
      "image/png": "[encoded data removed]",
      "text/plain": [
       "<matplotlib.figure.Figure at 0x1a42308b10>"
      ]
     },
     "metadata": {},
     "output_type": "display_data"
    }
   ],
   "source": [
    "sns.heatmap(df[['label','message_order','data']].apply(lambda x:pd.factorize(x)[0]).corr(),annot=True,cmap='viridis')"
   ]
  },
  {
   "cell_type": "markdown",
   "metadata": {
    "colab_type": "text",
    "id": "GHRj0e6z8eWQ"
   },
   "source": [
    "**From the above heatmap, it is evident that none of the features and label have correlation, so all of them can be selected as features into the machine learning pipeline**"
   ]
  },
  {
   "cell_type": "markdown",
   "metadata": {
    "colab_type": "text",
    "id": "s-Hh8eix852g"
   },
   "source": [
    "### Converting a categorical data like label into numerical form.\n",
    "For eg, whoAreYou ---> 0 , greeting ---> 1 etc. "
   ]
  },
  {
   "cell_type": "code",
   "execution_count": 13,
   "metadata": {
    "colab": {
     "base_uri": "https://localhost:8080/",
     "height": 1969
    },
    "colab_type": "code",
    "id": "nrOxmwlyZXgU",
    "outputId": "af1b6f29-092a-48b6-c67d-63c07a81d544",
    "scrolled": true
   },
   "outputs": [
    {
     "data": {
      "text/html": [
       "<div>\n",
       "<style scoped>\n",
       "    .dataframe tbody tr th:only-of-type {\n",
       "        vertical-align: middle;\n",
       "    }\n",
       "\n",
       "    .dataframe tbody tr th {\n",
       "        vertical-align: top;\n",
       "    }\n",
       "\n",
       "    .dataframe thead th {\n",
       "        text-align: right;\n",
       "    }\n",
       "</style>\n",
       "<table border=\"1\" class=\"dataframe\">\n",
       "  <thead>\n",
       "    <tr style=\"text-align: right;\">\n",
       "      <th></th>\n",
       "      <th>label</th>\n",
       "      <th>data</th>\n",
       "    </tr>\n",
       "  </thead>\n",
       "  <tbody>\n",
       "    <tr>\n",
       "      <th>0</th>\n",
       "      <td>0</td>\n",
       "      <td>0</td>\n",
       "    </tr>\n",
       "    <tr>\n",
       "      <th>1</th>\n",
       "      <td>1</td>\n",
       "      <td>1</td>\n",
       "    </tr>\n",
       "    <tr>\n",
       "      <th>2</th>\n",
       "      <td>1</td>\n",
       "      <td>2</td>\n",
       "    </tr>\n",
       "    <tr>\n",
       "      <th>3</th>\n",
       "      <td>2</td>\n",
       "      <td>3</td>\n",
       "    </tr>\n",
       "    <tr>\n",
       "      <th>4</th>\n",
       "      <td>2</td>\n",
       "      <td>4</td>\n",
       "    </tr>\n",
       "    <tr>\n",
       "      <th>5</th>\n",
       "      <td>1</td>\n",
       "      <td>5</td>\n",
       "    </tr>\n",
       "    <tr>\n",
       "      <th>6</th>\n",
       "      <td>1</td>\n",
       "      <td>6</td>\n",
       "    </tr>\n",
       "    <tr>\n",
       "      <th>7</th>\n",
       "      <td>3</td>\n",
       "      <td>7</td>\n",
       "    </tr>\n",
       "    <tr>\n",
       "      <th>8</th>\n",
       "      <td>3</td>\n",
       "      <td>8</td>\n",
       "    </tr>\n",
       "    <tr>\n",
       "      <th>9</th>\n",
       "      <td>1</td>\n",
       "      <td>9</td>\n",
       "    </tr>\n",
       "    <tr>\n",
       "      <th>10</th>\n",
       "      <td>2</td>\n",
       "      <td>3</td>\n",
       "    </tr>\n",
       "    <tr>\n",
       "      <th>11</th>\n",
       "      <td>2</td>\n",
       "      <td>10</td>\n",
       "    </tr>\n",
       "    <tr>\n",
       "      <th>12</th>\n",
       "      <td>2</td>\n",
       "      <td>11</td>\n",
       "    </tr>\n",
       "    <tr>\n",
       "      <th>13</th>\n",
       "      <td>2</td>\n",
       "      <td>12</td>\n",
       "    </tr>\n",
       "    <tr>\n",
       "      <th>14</th>\n",
       "      <td>4</td>\n",
       "      <td>13</td>\n",
       "    </tr>\n",
       "    <tr>\n",
       "      <th>15</th>\n",
       "      <td>4</td>\n",
       "      <td>14</td>\n",
       "    </tr>\n",
       "    <tr>\n",
       "      <th>16</th>\n",
       "      <td>1</td>\n",
       "      <td>15</td>\n",
       "    </tr>\n",
       "    <tr>\n",
       "      <th>17</th>\n",
       "      <td>2</td>\n",
       "      <td>16</td>\n",
       "    </tr>\n",
       "    <tr>\n",
       "      <th>18</th>\n",
       "      <td>1</td>\n",
       "      <td>17</td>\n",
       "    </tr>\n",
       "    <tr>\n",
       "      <th>19</th>\n",
       "      <td>3</td>\n",
       "      <td>18</td>\n",
       "    </tr>\n",
       "    <tr>\n",
       "      <th>20</th>\n",
       "      <td>1</td>\n",
       "      <td>19</td>\n",
       "    </tr>\n",
       "    <tr>\n",
       "      <th>21</th>\n",
       "      <td>2</td>\n",
       "      <td>8</td>\n",
       "    </tr>\n",
       "    <tr>\n",
       "      <th>22</th>\n",
       "      <td>3</td>\n",
       "      <td>20</td>\n",
       "    </tr>\n",
       "    <tr>\n",
       "      <th>23</th>\n",
       "      <td>4</td>\n",
       "      <td>21</td>\n",
       "    </tr>\n",
       "    <tr>\n",
       "      <th>24</th>\n",
       "      <td>2</td>\n",
       "      <td>22</td>\n",
       "    </tr>\n",
       "    <tr>\n",
       "      <th>25</th>\n",
       "      <td>1</td>\n",
       "      <td>23</td>\n",
       "    </tr>\n",
       "    <tr>\n",
       "      <th>26</th>\n",
       "      <td>1</td>\n",
       "      <td>12</td>\n",
       "    </tr>\n",
       "    <tr>\n",
       "      <th>27</th>\n",
       "      <td>0</td>\n",
       "      <td>24</td>\n",
       "    </tr>\n",
       "    <tr>\n",
       "      <th>28</th>\n",
       "      <td>4</td>\n",
       "      <td>25</td>\n",
       "    </tr>\n",
       "    <tr>\n",
       "      <th>29</th>\n",
       "      <td>1</td>\n",
       "      <td>12</td>\n",
       "    </tr>\n",
       "    <tr>\n",
       "      <th>...</th>\n",
       "      <td>...</td>\n",
       "      <td>...</td>\n",
       "    </tr>\n",
       "    <tr>\n",
       "      <th>1889</th>\n",
       "      <td>4</td>\n",
       "      <td>780</td>\n",
       "    </tr>\n",
       "    <tr>\n",
       "      <th>1890</th>\n",
       "      <td>2</td>\n",
       "      <td>781</td>\n",
       "    </tr>\n",
       "    <tr>\n",
       "      <th>1891</th>\n",
       "      <td>1</td>\n",
       "      <td>18</td>\n",
       "    </tr>\n",
       "    <tr>\n",
       "      <th>1892</th>\n",
       "      <td>1</td>\n",
       "      <td>8</td>\n",
       "    </tr>\n",
       "    <tr>\n",
       "      <th>1893</th>\n",
       "      <td>4</td>\n",
       "      <td>19</td>\n",
       "    </tr>\n",
       "    <tr>\n",
       "      <th>1894</th>\n",
       "      <td>0</td>\n",
       "      <td>782</td>\n",
       "    </tr>\n",
       "    <tr>\n",
       "      <th>1895</th>\n",
       "      <td>4</td>\n",
       "      <td>783</td>\n",
       "    </tr>\n",
       "    <tr>\n",
       "      <th>1896</th>\n",
       "      <td>2</td>\n",
       "      <td>784</td>\n",
       "    </tr>\n",
       "    <tr>\n",
       "      <th>1897</th>\n",
       "      <td>4</td>\n",
       "      <td>785</td>\n",
       "    </tr>\n",
       "    <tr>\n",
       "      <th>1898</th>\n",
       "      <td>3</td>\n",
       "      <td>786</td>\n",
       "    </tr>\n",
       "    <tr>\n",
       "      <th>1899</th>\n",
       "      <td>2</td>\n",
       "      <td>12</td>\n",
       "    </tr>\n",
       "    <tr>\n",
       "      <th>1900</th>\n",
       "      <td>1</td>\n",
       "      <td>280</td>\n",
       "    </tr>\n",
       "    <tr>\n",
       "      <th>1901</th>\n",
       "      <td>2</td>\n",
       "      <td>12</td>\n",
       "    </tr>\n",
       "    <tr>\n",
       "      <th>1902</th>\n",
       "      <td>4</td>\n",
       "      <td>787</td>\n",
       "    </tr>\n",
       "    <tr>\n",
       "      <th>1903</th>\n",
       "      <td>3</td>\n",
       "      <td>3</td>\n",
       "    </tr>\n",
       "    <tr>\n",
       "      <th>1904</th>\n",
       "      <td>2</td>\n",
       "      <td>788</td>\n",
       "    </tr>\n",
       "    <tr>\n",
       "      <th>1905</th>\n",
       "      <td>1</td>\n",
       "      <td>789</td>\n",
       "    </tr>\n",
       "    <tr>\n",
       "      <th>1906</th>\n",
       "      <td>2</td>\n",
       "      <td>4</td>\n",
       "    </tr>\n",
       "    <tr>\n",
       "      <th>1907</th>\n",
       "      <td>2</td>\n",
       "      <td>2</td>\n",
       "    </tr>\n",
       "    <tr>\n",
       "      <th>1908</th>\n",
       "      <td>1</td>\n",
       "      <td>12</td>\n",
       "    </tr>\n",
       "    <tr>\n",
       "      <th>1909</th>\n",
       "      <td>4</td>\n",
       "      <td>128</td>\n",
       "    </tr>\n",
       "    <tr>\n",
       "      <th>1910</th>\n",
       "      <td>1</td>\n",
       "      <td>135</td>\n",
       "    </tr>\n",
       "    <tr>\n",
       "      <th>1911</th>\n",
       "      <td>1</td>\n",
       "      <td>135</td>\n",
       "    </tr>\n",
       "    <tr>\n",
       "      <th>1912</th>\n",
       "      <td>2</td>\n",
       "      <td>790</td>\n",
       "    </tr>\n",
       "    <tr>\n",
       "      <th>1913</th>\n",
       "      <td>4</td>\n",
       "      <td>791</td>\n",
       "    </tr>\n",
       "    <tr>\n",
       "      <th>1914</th>\n",
       "      <td>3</td>\n",
       "      <td>792</td>\n",
       "    </tr>\n",
       "    <tr>\n",
       "      <th>1915</th>\n",
       "      <td>4</td>\n",
       "      <td>553</td>\n",
       "    </tr>\n",
       "    <tr>\n",
       "      <th>1916</th>\n",
       "      <td>1</td>\n",
       "      <td>221</td>\n",
       "    </tr>\n",
       "    <tr>\n",
       "      <th>1917</th>\n",
       "      <td>2</td>\n",
       "      <td>4</td>\n",
       "    </tr>\n",
       "    <tr>\n",
       "      <th>1918</th>\n",
       "      <td>2</td>\n",
       "      <td>142</td>\n",
       "    </tr>\n",
       "  </tbody>\n",
       "</table>\n",
       "<p>1919 rows × 2 columns</p>\n",
       "</div>"
      ],
      "text/plain": [
       "      label  data\n",
       "0         0     0\n",
       "1         1     1\n",
       "2         1     2\n",
       "3         2     3\n",
       "4         2     4\n",
       "5         1     5\n",
       "6         1     6\n",
       "7         3     7\n",
       "8         3     8\n",
       "9         1     9\n",
       "10        2     3\n",
       "11        2    10\n",
       "12        2    11\n",
       "13        2    12\n",
       "14        4    13\n",
       "15        4    14\n",
       "16        1    15\n",
       "17        2    16\n",
       "18        1    17\n",
       "19        3    18\n",
       "20        1    19\n",
       "21        2     8\n",
       "22        3    20\n",
       "23        4    21\n",
       "24        2    22\n",
       "25        1    23\n",
       "26        1    12\n",
       "27        0    24\n",
       "28        4    25\n",
       "29        1    12\n",
       "...     ...   ...\n",
       "1889      4   780\n",
       "1890      2   781\n",
       "1891      1    18\n",
       "1892      1     8\n",
       "1893      4    19\n",
       "1894      0   782\n",
       "1895      4   783\n",
       "1896      2   784\n",
       "1897      4   785\n",
       "1898      3   786\n",
       "1899      2    12\n",
       "1900      1   280\n",
       "1901      2    12\n",
       "1902      4   787\n",
       "1903      3     3\n",
       "1904      2   788\n",
       "1905      1   789\n",
       "1906      2     4\n",
       "1907      2     2\n",
       "1908      1    12\n",
       "1909      4   128\n",
       "1910      1   135\n",
       "1911      1   135\n",
       "1912      2   790\n",
       "1913      4   791\n",
       "1914      3   792\n",
       "1915      4   553\n",
       "1916      1   221\n",
       "1917      2     4\n",
       "1918      2   142\n",
       "\n",
       "[1919 rows x 2 columns]"
      ]
     },
     "execution_count": 13,
     "metadata": {},
     "output_type": "execute_result"
    }
   ],
   "source": [
    "df[['label','data']].apply(lambda x:pd.factorize(x)[0])"
   ]
  },
  {
   "cell_type": "markdown",
   "metadata": {
    "colab_type": "text",
    "id": "JUsuo8jO9TOj"
   },
   "source": [
    "### Plotting a boxplot to visualise mean, median and modes in the message_order column"
   ]
  },
  {
   "cell_type": "code",
   "execution_count": 14,
   "metadata": {
    "colab": {
     "base_uri": "https://localhost:8080/",
     "height": 412
    },
    "colab_type": "code",
    "id": "lMPtFUrRZXgY",
    "outputId": "0fa3b09f-f393-4dd3-9889-37688d1bf7c9"
   },
   "outputs": [
    {
     "data": {
      "text/plain": [
       "<matplotlib.axes._subplots.AxesSubplot at 0x1a422efe10>"
      ]
     },
     "execution_count": 14,
     "metadata": {},
     "output_type": "execute_result"
    },
    {
     "data": {
      "image/png": "[encoded data removed]",
      "text/plain": [
       "<matplotlib.figure.Figure at 0x1a424b54d0>"
      ]
     },
     "metadata": {},
     "output_type": "display_data"
    }
   ],
   "source": [
    "sns.boxplot(x='message_order',y='label',data=df)"
   ]
  },
  {
   "cell_type": "code",
   "execution_count": 15,
   "metadata": {
    "colab": {
     "base_uri": "https://localhost:8080/",
     "height": 68
    },
    "colab_type": "code",
    "id": "g-ahwj9TZXgd",
    "outputId": "5b712503-09bb-467c-8288-9186741fea1b"
   },
   "outputs": [
    {
     "name": "stdout",
     "output_type": "stream",
     "text": [
      "Index([u'location', u'whoAreYou', u'greeting', u'dontMeetRequirements',\n",
      "       u'notInterested'],\n",
      "      dtype='object')\n"
     ]
    }
   ],
   "source": [
    "print(pd.factorize(df['label'])[1])"
   ]
  },
  {
   "cell_type": "markdown",
   "metadata": {
    "colab_type": "text",
    "id": "zVECv3f99dWk"
   },
   "source": [
    "### Plotting a distribution for label column"
   ]
  },
  {
   "cell_type": "code",
   "execution_count": 16,
   "metadata": {
    "colab": {
     "base_uri": "https://localhost:8080/",
     "height": 364
    },
    "colab_type": "code",
    "id": "00w06n-cZXgh",
    "outputId": "84e1d314-483a-41e3-ecf3-e26ee00b6bb5"
   },
   "outputs": [
    {
     "name": "stderr",
     "output_type": "stream",
     "text": [
      "/Users/pushkar/anaconda2/envs/myenv/lib/python2.7/site-packages/scipy/stats/stats.py:1713: FutureWarning: Using a non-tuple sequence for multidimensional indexing is deprecated; use `arr[tuple(seq)]` instead of `arr[seq]`. In the future this will be interpreted as an array index, `arr[np.array(seq)]`, which will result either in an error or a different result.\n",
      "  return np.add.reduce(sorted[indexer] * weights, axis=axis) / sumval\n"
     ]
    },
    {
     "data": {
      "text/plain": [
       "<matplotlib.axes._subplots.AxesSubplot at 0x1a426a2a90>"
      ]
     },
     "execution_count": 16,
     "metadata": {},
     "output_type": "execute_result"
    },
    {
     "data": {
      "image/png": "[encoded data removed]",
      "text/plain": [
       "<matplotlib.figure.Figure at 0x1a424c5f90>"
      ]
     },
     "metadata": {},
     "output_type": "display_data"
    }
   ],
   "source": [
    "sns.distplot(pd.factorize(df['label'])[0])"
   ]
  },
  {
   "cell_type": "markdown",
   "metadata": {
    "colab_type": "text",
    "id": "021DuHeH9h6f"
   },
   "source": [
    "### Plotting a distribution for message_order column"
   ]
  },
  {
   "cell_type": "code",
   "execution_count": 17,
   "metadata": {
    "colab": {
     "base_uri": "https://localhost:8080/",
     "height": 378
    },
    "colab_type": "code",
    "id": "n0kN5DVaZXgn",
    "outputId": "855b8cc9-3738-4792-c1a8-a3b50594bc7d"
   },
   "outputs": [
    {
     "data": {
      "text/plain": [
       "<matplotlib.axes._subplots.AxesSubplot at 0x1a428895d0>"
      ]
     },
     "execution_count": 17,
     "metadata": {},
     "output_type": "execute_result"
    },
    {
     "data": {
      "image/png": "[encoded data removed]",
      "text/plain": [
       "<matplotlib.figure.Figure at 0x1a421b8a90>"
      ]
     },
     "metadata": {},
     "output_type": "display_data"
    }
   ],
   "source": [
    "sns.distplot(df['message_order'])"
   ]
  },
  {
   "cell_type": "markdown",
   "metadata": {
    "colab_type": "text",
    "id": "bqfs46IH9n8k"
   },
   "source": [
    "### Plotting counts of all labels"
   ]
  },
  {
   "cell_type": "code",
   "execution_count": 18,
   "metadata": {
    "colab": {
     "base_uri": "https://localhost:8080/",
     "height": 378
    },
    "colab_type": "code",
    "id": "liQ83l4QZXgq",
    "outputId": "42f7e1d1-9600-4781-b3d7-7d2867429045"
   },
   "outputs": [
    {
     "data": {
      "text/plain": [
       "<matplotlib.axes._subplots.AxesSubplot at 0x1a429d7150>"
      ]
     },
     "execution_count": 18,
     "metadata": {},
     "output_type": "execute_result"
    },
    {
     "data": {
      "image/png": "[encoded data removed]",
      "text/plain": [
       "<matplotlib.figure.Figure at 0x1a42968890>"
      ]
     },
     "metadata": {},
     "output_type": "display_data"
    }
   ],
   "source": [
    "sns.countplot(df['label'])"
   ]
  },
  {
   "cell_type": "markdown",
   "metadata": {
    "colab_type": "text",
    "id": "jBXp99NsF8MH"
   },
   "source": [
    "# Data PreProcessing "
   ]
  },
  {
   "cell_type": "markdown",
   "metadata": {
    "colab_type": "text",
    "id": "UPMKZw409ukv"
   },
   "source": [
    "### Function 'cleaning' to replace \n",
    "\n",
    "\n",
    "1.   .(dot) to ' ' (space)\n",
    "2.   greater than one spaces to no space\n",
    "3.   trimming the sentences at both ends\n",
    "4.   Removing all characters except alphabets\n",
    "\n"
   ]
  },
  {
   "cell_type": "code",
   "execution_count": 19,
   "metadata": {
    "colab": {},
    "colab_type": "code",
    "id": "G41bhYBYZXgt"
   },
   "outputs": [],
   "source": [
    "import re\n",
    "replace_dots = re.compile('[.]')\n",
    "replace_spaces = re.compile('[ ]+')\n",
    "replace_space_start_end = re.compile('^ | $')\n",
    "replace_special_chars = re.compile('[^a-zA-Z ]',re.IGNORECASE)\n",
    "\n",
    "def cleaning(chats):\n",
    "    cleaned = []\n",
    "    for i in range(len(chats)):\n",
    "        chat = chats[i]\n",
    "        chat = replace_dots.sub(' ',chat)\n",
    "        chat = replace_spaces.sub(' ',chat)\n",
    "        chat = replace_special_chars.sub('',chat)\n",
    "        chat = replace_space_start_end.sub('',chat)\n",
    "        cleaned.append(chat)\n",
    "    return cleaned"
   ]
  },
  {
   "cell_type": "code",
   "execution_count": 20,
   "metadata": {
    "colab": {
     "base_uri": "https://localhost:8080/",
     "height": 68
    },
    "colab_type": "code",
    "id": "mgl8Ra0KZXg3",
    "outputId": "a325cd8c-3517-4adb-9672-75a039e44c84"
   },
   "outputs": [
    {
     "name": "stderr",
     "output_type": "stream",
     "text": [
      "[nltk_data] Downloading package punkt to /Users/pushkar/nltk_data...\n",
      "[nltk_data]   Package punkt is already up-to-date!\n"
     ]
    },
    {
     "data": {
      "text/plain": [
       "True"
      ]
     },
     "execution_count": 20,
     "metadata": {},
     "output_type": "execute_result"
    }
   ],
   "source": [
    "nltk.download('punkt')"
   ]
  },
  {
   "cell_type": "code",
   "execution_count": 21,
   "metadata": {
    "colab": {},
    "colab_type": "code",
    "id": "gqKbF6Y2-dev"
   },
   "outputs": [],
   "source": [
    "cleaned = cleaning(df['data'])"
   ]
  },
  {
   "cell_type": "markdown",
   "metadata": {
    "colab_type": "text",
    "id": "t93n86qL-Mf_"
   },
   "source": [
    "### Function 'tokenizeandConvertToLower' to divide the sentence into tokens and transform into lowercase"
   ]
  },
  {
   "cell_type": "code",
   "execution_count": 22,
   "metadata": {
    "colab": {},
    "colab_type": "code",
    "id": "EMA4yAGNZXg_"
   },
   "outputs": [],
   "source": [
    "def tokenizeandConvertTolower(chats):\n",
    "    converted = []\n",
    "    for chat in chats:\n",
    "        tokens = word_tokenize(chat)\n",
    "        #print(tokens)\n",
    "        lowers = [x.lower() for x in tokens]\n",
    "        converted.append(lowers)\n",
    "    return converted"
   ]
  },
  {
   "cell_type": "markdown",
   "metadata": {
    "colab_type": "text",
    "id": "Z7yecGhz-gTN"
   },
   "source": [
    "### Function 'tokenizeToNumerical' to take the tokenized words and assign each word a number and then replacing the word as the number"
   ]
  },
  {
   "cell_type": "code",
   "execution_count": 23,
   "metadata": {
    "colab": {},
    "colab_type": "code",
    "id": "Kh7I5-6rZXhH"
   },
   "outputs": [],
   "source": [
    "def tokenizeToNumerical(chats):\n",
    "    tokenizer = Tokenizer(split = ' ',lower = True)\n",
    "    tokenizer.fit_on_texts(chats)\n",
    "    return (tokenizer.texts_to_sequences(chats),tokenizer)"
   ]
  },
  {
   "cell_type": "code",
   "execution_count": 24,
   "metadata": {
    "colab": {},
    "colab_type": "code",
    "id": "EDkvD4nOZXhJ"
   },
   "outputs": [],
   "source": [
    "(tokens, tokenizer) = tokenizeToNumerical(cleaned)"
   ]
  },
  {
   "cell_type": "markdown",
   "metadata": {
    "colab_type": "text",
    "id": "aGk_jW7S-uKn"
   },
   "source": [
    "### Function 'max_length' to find the length of largest sequences "
   ]
  },
  {
   "cell_type": "code",
   "execution_count": 25,
   "metadata": {
    "colab": {},
    "colab_type": "code",
    "id": "l3FMU1xwZXhL"
   },
   "outputs": [],
   "source": [
    "def max_length(tokens):\n",
    "    return len(max(tokens,key=len))"
   ]
  },
  {
   "cell_type": "code",
   "execution_count": 26,
   "metadata": {
    "colab": {},
    "colab_type": "code",
    "id": "vFWdjL_sZXhN"
   },
   "outputs": [],
   "source": [
    "max_len = max_length(tokens)"
   ]
  },
  {
   "cell_type": "code",
   "execution_count": 27,
   "metadata": {
    "colab": {
     "base_uri": "https://localhost:8080/",
     "height": 34
    },
    "colab_type": "code",
    "id": "aCMYOPX8ZXhQ",
    "outputId": "67bc4d47-d270-4057-9190-d5d23701a93e"
   },
   "outputs": [
    {
     "data": {
      "text/plain": [
       "751"
      ]
     },
     "execution_count": 27,
     "metadata": {},
     "output_type": "execute_result"
    }
   ],
   "source": [
    "vocab_size = len(tokenizer.index_word) + 1\n",
    "vocab_size"
   ]
  },
  {
   "cell_type": "markdown",
   "metadata": {
    "colab_type": "text",
    "id": "SvwgSc7C-179"
   },
   "source": [
    "### Function 'padSeq' to pad sentences to same size (max length)"
   ]
  },
  {
   "cell_type": "code",
   "execution_count": 28,
   "metadata": {
    "colab": {},
    "colab_type": "code",
    "id": "P-DgR3dmZXhU"
   },
   "outputs": [],
   "source": [
    "def padSeq(chats,max_len):\n",
    "    return pad_sequences(chats,maxlen = max_len, padding = 'post')"
   ]
  },
  {
   "cell_type": "code",
   "execution_count": 29,
   "metadata": {
    "colab": {},
    "colab_type": "code",
    "id": "fyXqxQX8ZXhW"
   },
   "outputs": [],
   "source": [
    "padded = padSeq(tokens,max_len)"
   ]
  },
  {
   "cell_type": "code",
   "execution_count": 30,
   "metadata": {
    "colab": {
     "base_uri": "https://localhost:8080/",
     "height": 34
    },
    "colab_type": "code",
    "id": "FayO8qI6ZXhc",
    "outputId": "bd597256-f3ad-4544-e98f-e61796faf950"
   },
   "outputs": [
    {
     "data": {
      "text/plain": [
       "dtype('O')"
      ]
     },
     "execution_count": 30,
     "metadata": {},
     "output_type": "execute_result"
    }
   ],
   "source": [
    "df['data'].dtype"
   ]
  },
  {
   "cell_type": "markdown",
   "metadata": {
    "colab_type": "text",
    "id": "kQGGZzPg-_58"
   },
   "source": [
    "### Tokenize output labels"
   ]
  },
  {
   "cell_type": "code",
   "execution_count": 31,
   "metadata": {
    "colab": {},
    "colab_type": "code",
    "id": "cj4E3VftZXhi"
   },
   "outputs": [],
   "source": [
    "(output_tokens,_) = tokenizeToNumerical(df['label'])"
   ]
  },
  {
   "cell_type": "code",
   "execution_count": 32,
   "metadata": {
    "colab": {
     "base_uri": "https://localhost:8080/",
     "height": 34
    },
    "colab_type": "code",
    "id": "_OMsIDl0ZXhm",
    "outputId": "bb208d2c-e00b-4076-baef-748c77cdb1f9"
   },
   "outputs": [
    {
     "data": {
      "text/plain": [
       "(1919, 1)"
      ]
     },
     "execution_count": 32,
     "metadata": {},
     "output_type": "execute_result"
    }
   ],
   "source": [
    "np.shape(output_tokens)"
   ]
  },
  {
   "cell_type": "markdown",
   "metadata": {
    "colab_type": "text",
    "id": "yR1KdAWG_DK6"
   },
   "source": [
    "### Function 'oneHot' to convert categorical data (data in {0,1,2,...}) to one hot encoding.\n",
    "For Eg. [[1],[2]] ---> [[1,0],[0,1]]\n",
    "\n",
    "Here 1 has been assigned 1st dimension and 2 has been assigned 2nd dimension"
   ]
  },
  {
   "cell_type": "code",
   "execution_count": 33,
   "metadata": {
    "colab": {},
    "colab_type": "code",
    "id": "iTFIFLhJZXhp"
   },
   "outputs": [],
   "source": [
    "def oneHot(output):\n",
    "    encoder = OneHotEncoder(sparse = False)\n",
    "    return encoder.fit_transform(output)"
   ]
  },
  {
   "cell_type": "code",
   "execution_count": 34,
   "metadata": {
    "colab": {},
    "colab_type": "code",
    "id": "RL9nx_SVZXht"
   },
   "outputs": [
    {
     "name": "stderr",
     "output_type": "stream",
     "text": [
      "/Users/pushkar/anaconda2/envs/myenv/lib/python2.7/site-packages/sklearn/preprocessing/_encoders.py:368: FutureWarning: The handling of integer data will change in version 0.22. Currently, the categories are determined based on the range [0, max(values)], while in the future they will be determined based on the unique values.\n",
      "If you want the future behaviour and silence this warning, you can specify \"categories='auto'\".\n",
      "In case you used a LabelEncoder before this OneHotEncoder to convert the categories to integers, then you can now use the OneHotEncoder directly.\n",
      "  warnings.warn(msg, FutureWarning)\n"
     ]
    }
   ],
   "source": [
    "output_one_hot = oneHot(output_tokens)\n",
    "input_mes_ord_one_hot = oneHot(np.expand_dims(df['message_order'],axis = -1))"
   ]
  },
  {
   "cell_type": "code",
   "execution_count": 35,
   "metadata": {
    "colab": {
     "base_uri": "https://localhost:8080/",
     "height": 34
    },
    "colab_type": "code",
    "id": "9fa4-7CXgEcL",
    "outputId": "80853e95-ffd1-4a9c-9738-bf80b2cb988d"
   },
   "outputs": [
    {
     "data": {
      "text/plain": [
       "(1919, 6)"
      ]
     },
     "execution_count": 35,
     "metadata": {},
     "output_type": "execute_result"
    }
   ],
   "source": [
    "input_mes_ord_one_hot.shape"
   ]
  },
  {
   "cell_type": "markdown",
   "metadata": {
    "colab_type": "text",
    "id": "lNJyUiyV_k2x"
   },
   "source": [
    "### Splitting the dataset into training and validation to check the accuracy of the model on validation dataset to prevent overfitting"
   ]
  },
  {
   "cell_type": "code",
   "execution_count": 36,
   "metadata": {
    "colab": {},
    "colab_type": "code",
    "id": "vqY6Tq6eZXhx"
   },
   "outputs": [],
   "source": [
    "train_x, val_x, train_y, val_y, train_ord, val_ord = train_test_split(padded,output_one_hot,df['message_order'], shuffle = True,test_size=0.1)"
   ]
  },
  {
   "cell_type": "code",
   "execution_count": 37,
   "metadata": {
    "colab": {},
    "colab_type": "code",
    "id": "zr6t6oiRZXhz"
   },
   "outputs": [],
   "source": [
    "ord_shape = max(val_ord) + 1"
   ]
  },
  {
   "cell_type": "code",
   "execution_count": 38,
   "metadata": {
    "colab": {
     "base_uri": "https://localhost:8080/",
     "height": 34
    },
    "colab_type": "code",
    "id": "GYPyJgc8kZqY",
    "outputId": "004f4da9-637d-4097-9ab8-88cd8f987dd4"
   },
   "outputs": [
    {
     "data": {
      "text/plain": [
       "6"
      ]
     },
     "execution_count": 38,
     "metadata": {},
     "output_type": "execute_result"
    }
   ],
   "source": [
    "ord_shape"
   ]
  },
  {
   "cell_type": "markdown",
   "metadata": {
    "colab_type": "text",
    "id": "ohHVcKX2GAOP"
   },
   "source": [
    "# Creating models and training"
   ]
  },
  {
   "cell_type": "markdown",
   "metadata": {
    "colab_type": "text",
    "id": "WzxUFHMb_wgi"
   },
   "source": [
    "### Funtion 'train_model_with_message_order' to create a keras lstm model with message order as auxilliary input"
   ]
  },
  {
   "cell_type": "code",
   "execution_count": 42,
   "metadata": {
    "colab": {},
    "colab_type": "code",
    "id": "AlkakUF1ZXh2"
   },
   "outputs": [],
   "source": [
    "def train_model_with_message_order(): \n",
    "  if not os.path.isfile(\"model_with_message_order.h5\"):\n",
    "    input_layer = Input(shape = (max_len,))\n",
    "    x = Embedding(vocab_size,256,input_length = max_len)(input_layer)\n",
    "    print(x.shape)\n",
    "    x = Bidirectional(LSTM(256))(x)\n",
    "\n",
    "    aux_in = Input(shape = (1,))\n",
    "    print(aux_in.shape)\n",
    "    x_aux = Flatten()(Embedding(ord_shape,10)(aux_in))\n",
    "    print(x_aux.shape)\n",
    "    x_aux = concatenate([x, x_aux])\n",
    "\n",
    "    x = Dense(1024, activation = 'relu')(x_aux)\n",
    "    x = BatchNormalization()(x)\n",
    "    x = Dense(512, activation = 'relu')(x)\n",
    "    x = BatchNormalization()(x)\n",
    "    x = Dense(256, activation = 'relu')(x)\n",
    "    x = BatchNormalization()(x)\n",
    "    x = Dense(128, activation = 'relu')(x)\n",
    "    x = BatchNormalization()(x)\n",
    "    x = Dense(64, activation = 'relu')(x)\n",
    "    x = BatchNormalization()(x)\n",
    "    output_layer = Dense(5, activation = 'softmax')(x)\n",
    "\n",
    "    model = Model(inputs=[input_layer,aux_in],outputs = [output_layer])\n",
    "    print(model.summary())\n",
    "    model.compile(loss = 'categorical_crossentropy', optimizer = 'rmsprop', metrics = ['accuracy'])\n",
    "    model.fit([train_x,train_ord],train_y,batch_size = 256, epochs = 500, validation_data = ([val_x,val_ord],val_y))\n",
    "    model.save('model_with_message_order.h5')\n",
    "  else:\n",
    "    model = load_model('model_with_message_order.h5')\n",
    "    print(model.test_on_batch([val_x,val_ord],val_y))"
   ]
  },
  {
   "cell_type": "markdown",
   "metadata": {
    "colab_type": "text",
    "id": "lXZxelsW_6KF"
   },
   "source": [
    "### Function 'train_model_without_message_order' to create a keras lstm model without message_order as input "
   ]
  },
  {
   "cell_type": "code",
   "execution_count": 47,
   "metadata": {
    "colab": {},
    "colab_type": "code",
    "id": "d9GdQdqCZXh5"
   },
   "outputs": [],
   "source": [
    "def train_model_without_message_order():\n",
    "  if not os.path.isfile(\"model_without_message_order.hdf5\"):\n",
    "    input_layer = Input(shape = (max_len,))\n",
    "    x = Embedding(vocab_size,256,input_length = max_len)(input_layer)\n",
    "    print(x.shape)\n",
    "    x = Bidirectional(LSTM(256))(x)\n",
    "\n",
    "    x = Dense(1024, activation = 'relu')(x)\n",
    "    x = BatchNormalization()(x)\n",
    "    x = Dense(512, activation = 'relu')(x)\n",
    "    x = BatchNormalization()(x)\n",
    "    x = Dense(256, activation = 'relu')(x)\n",
    "    x = BatchNormalization()(x)\n",
    "    x = Dense(128, activation = 'relu')(x)\n",
    "    x = BatchNormalization()(x)\n",
    "    x = Dense(64, activation = 'relu')(x)\n",
    "    x = BatchNormalization()(x)\n",
    "    output_layer = Dense(5, activation = 'softmax')(x)\n",
    "\n",
    "    model = Model(inputs=[input_layer],outputs = [output_layer])\n",
    "    print(model.summary())\n",
    "    model.compile(loss = 'categorical_crossentropy', optimizer = 'rmsprop', metrics = ['accuracy'])\n",
    "    model.fit([train_x],train_y,batch_size = 256, epochs = 500, validation_data = ([val_x],val_y))\n",
    "    model.save(\"model_without_message_order.hdf5\")\n",
    "  else:\n",
    "    model = load_model(\"model_without_message_order.hdf5\")\n",
    "    print(model.test_on_batch(val_x,val_y))"
   ]
  },
  {
   "cell_type": "code",
   "execution_count": null,
   "metadata": {},
   "outputs": [],
   "source": [
    "train_model_without_message_order()"
   ]
  },
  {
   "cell_type": "code",
   "execution_count": null,
   "metadata": {},
   "outputs": [],
   "source": [
    "train_model_with_message_order()"
   ]
  },
  {
   "cell_type": "markdown",
   "metadata": {
    "colab_type": "text",
    "id": "20UvLaPZGDEO"
   },
   "source": [
    "# Analysis of the results"
   ]
  },
  {
   "cell_type": "markdown",
   "metadata": {
    "colab_type": "text",
    "id": "ivHPGbj4Abd7"
   },
   "source": [
    "---\n",
    "The model with message_order as input achieves a validation accuracy of ~0.26 and training accuracy of ~0.66.\n",
    "\n",
    "The model without message_order as input achieves a validation accuracy of ~0.28 and training accuracy of ~0.60\n",
    "\n",
    "Looking at the 2 models , it can be inferred that model with message_order has learned the training data better than the model without message order but is unable to generalise better. Which means that message_orer is an important feature as it brings in more structure to the data.\n",
    "\n",
    "But looking at the 2 accuracies, it can be concluded that the dataset is not adequate to be learned from.\n",
    "Meaning that the chats in dataset can't be classified into intents. \n",
    "\n",
    "There are multiple reasons for this, \n",
    "\n",
    "\n",
    "1.   The chat data has roman script of multiple languages like hindi, kannada, marathi\n",
    "2.   The english words are also not appropriate , i.e., most of the words don't have vowels in them which makes it difficult for the learning algorithm to group these words, like hi and hii are 2 different words in the dataset, but they mean the same.\n",
    "\n",
    "**Solution** :  a larger corpus of data is needed to learn correct word vectors for these kind of words and then using these word vectors, we can learn to classify the intent.\n",
    "\n"
   ]
  }
 ],
 "metadata": {
  "accelerator": "GPU",
  "colab": {
   "name": "intent_classification.ipynb",
   "provenance": [],
   "version": "0.3.2"
  },
  "kernelspec": {
   "display_name": "Python 2",
   "language": "python",
   "name": "python2"
  },
  "language_info": {
   "codemirror_mode": {
    "name": "ipython",
    "version": 2
   },
   "file_extension": ".py",
   "mimetype": "text/x-python",
   "name": "python",
   "nbconvert_exporter": "python",
   "pygments_lexer": "ipython2",
   "version": "2.7.15"
  }
 },
 "nbformat": 4,
 "nbformat_minor": 1
}
